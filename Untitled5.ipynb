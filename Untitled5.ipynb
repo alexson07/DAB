{
  "nbformat": 4,
  "nbformat_minor": 0,
  "metadata": {
    "colab": {
      "provenance": [],
      "authorship_tag": "ABX9TyNOcxxp2r6NOmhraqEfpT2X",
      "include_colab_link": true
    },
    "kernelspec": {
      "name": "python3",
      "display_name": "Python 3"
    },
    "language_info": {
      "name": "python"
    }
  },
  "cells": [
    {
      "cell_type": "markdown",
      "metadata": {
        "id": "view-in-github",
        "colab_type": "text"
      },
      "source": [
        "<a href=\"https://colab.research.google.com/github/alexson07/DAB/blob/main/Untitled5.ipynb\" target=\"_parent\"><img src=\"https://colab.research.google.com/assets/colab-badge.svg\" alt=\"Open In Colab\"/></a>"
      ]
    },
    {
      "cell_type": "code",
      "execution_count": 2,
      "metadata": {
        "colab": {
          "base_uri": "https://localhost:8080/",
          "height": 106
        },
        "id": "h9O9lakTc0LO",
        "outputId": "635d5370-bfe5-4071-bf07-fada795cf814"
      },
      "outputs": [
        {
          "output_type": "error",
          "ename": "SyntaxError",
          "evalue": "closing parenthesis ']' does not match opening parenthesis '(' (ipython-input-539772297.py, line 18)",
          "traceback": [
            "\u001b[0;36m  File \u001b[0;32m\"/tmp/ipython-input-539772297.py\"\u001b[0;36m, line \u001b[0;32m18\u001b[0m\n\u001b[0;31m    df3[''Monthly beer production]'' = pd.to_numeric(df3[''Monthly beer production]''], errors='coerce')\u001b[0m\n\u001b[0m                                                                                     ^\u001b[0m\n\u001b[0;31mSyntaxError\u001b[0m\u001b[0;31m:\u001b[0m closing parenthesis ']' does not match opening parenthesis '('\n"
          ]
        }
      ],
      "source": [
        "import pandas as pd\n",
        "import matplotlib.pyplot as plt\n",
        "\n",
        "file1 = \"/content/daily-minimum-temperatures-in-melbourne.csv\"\n",
        "file2 = \"/content/Electric_Production.csv\"\n",
        "file3 = \"/content/monthly-beer-production-in-austr.csv\"\n",
        "file4 = \"/content/sales-of-shampoo-over-a-three-ye.csv\"\n",
        "file5 = \"/content/emails.csv\"\n",
        "\n",
        "# Corrected data loading and cleaning for time series data\n",
        "df1 = pd.read_csv(file1, skiprows=1, parse_dates=['Date'], index_col='Date')\n",
        "df1['Temp'] = pd.to_numeric(df1['Temp'], errors='coerce')\n",
        "df1.dropna(inplace=True)\n",
        "\n",
        "df2 = pd.read_csv(file2, parse_dates=['DATE'], index_col='DATE')\n",
        "\n",
        "df3 = pd.read_csv(file3, skiprows=1, parse_dates=['Month'], index_col='Month')\n",
        "df3[''Monthly beer production]'' = pd.to_numeric(df3[''Monthly beer production]''], errors='coerce')\n",
        "df3.dropna(inplace=True)\n",
        "\n",
        "df4 = pd.read_csv(file4, skiprows=1, parse_dates=['Month'], index_col='Month')\n",
        "\n",
        "df5 = pd.read_csv(file5)\n",
        "\n",
        "# The plotting function remains the same as it is well-defined\n",
        "def plot_series(df, title, ylabel):\n",
        "    plt.figure(figsize=(12,5))\n",
        "    plt.plot(df)\n",
        "    plt.title(title)\n",
        "    plt.xlabel(\"Time\")\n",
        "    plt.ylabel(ylabel)\n",
        "    plt.grid(True)\n",
        "    plt.show()\n",
        "\n",
        "# Plotting the corrected DataFrames\n",
        "plot_series(df1, \"Daily Minimum Temperatures\", \"Temperature (°C)\")\n",
        "plot_series(df2, \"Electric Production\", \"Production\")\n",
        "plot_series(df3, \"Monthly Beer Production in Australia\", \"Beer Production\")\n",
        "plot_series(df4, \"Shampoo Sales Over Three Years\", \"Sales\")\n",
        "\n",
        "# Print descriptions for the corrected DataFrames\n",
        "print(\"Daily Minimum Temperatures:\\n\", df1.describe(), \"\\n\")\n",
        "print(\"Electric Production:\\n\", df2.describe(), \"\\n\")\n",
        "print(\"Monthly Beer Production:\\n\", df3.describe(), \"\\n\")\n",
        "print(\"Shampoo Sales:\\n\", df4.describe(), \"\\n\")\n",
        "print(\"Emails Dataset:\\n\", df5.describe(include='all'), \"\\n\")"
      ]
    }
  ]
}