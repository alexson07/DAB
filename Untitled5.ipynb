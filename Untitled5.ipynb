{
  "nbformat": 4,
  "nbformat_minor": 0,
  "metadata": {
    "colab": {
      "provenance": [],
      "authorship_tag": "ABX9TyNXPrALL17MXAsKT/ct0zHl",
      "include_colab_link": true
    },
    "kernelspec": {
      "name": "python3",
      "display_name": "Python 3"
    },
    "language_info": {
      "name": "python"
    }
  },
  "cells": [
    {
      "cell_type": "markdown",
      "metadata": {
        "id": "view-in-github",
        "colab_type": "text"
      },
      "source": [
        "<a href=\"https://colab.research.google.com/github/alexson07/DAB/blob/main/Untitled5.ipynb\" target=\"_parent\"><img src=\"https://colab.research.google.com/assets/colab-badge.svg\" alt=\"Open In Colab\"/></a>"
      ]
    },
    {
      "cell_type": "code",
      "execution_count": 2,
      "metadata": {
        "colab": {
          "base_uri": "https://localhost:8080/",
          "height": 106
        },
        "id": "h9O9lakTc0LO",
        "outputId": "635d5370-bfe5-4071-bf07-fada795cf814"
      },
      "outputs": [
        {
          "output_type": "error",
          "ename": "SyntaxError",
          "evalue": "closing parenthesis ']' does not match opening parenthesis '(' (ipython-input-539772297.py, line 18)",
          "traceback": [
            "\u001b[0;36m  File \u001b[0;32m\"/tmp/ipython-input-539772297.py\"\u001b[0;36m, line \u001b[0;32m18\u001b[0m\n\u001b[0;31m    df3[''Monthly beer production]'' = pd.to_numeric(df3[''Monthly beer production]''], errors='coerce')\u001b[0m\n\u001b[0m                                                                                     ^\u001b[0m\n\u001b[0;31mSyntaxError\u001b[0m\u001b[0;31m:\u001b[0m closing parenthesis ']' does not match opening parenthesis '('\n"
          ]
        }
      ],
      "source": [
        "import pandas as pd\n",
        "import matplotlib.pyplot as plt\n",
        "\n",
        "file1 = \"/content/daily-minimum-temperatures-in-melbourne.csv\"\n",
        "file2 = \"/content/Electric_Production.csv\"\n",
        "file3 = \"/content/monthly-beer-production-in-austr.csv\"\n",
        "file4 = \"/content/sales-of-shampoo-over-a-three-ye.csv\"\n",
        "file5 = \"/content/emails.csv\"\n",
        "\n",
        "# Corrected data loading and cleaning for time series data\n",
        "df1 = pd.read_csv(file1, skiprows=1, parse_dates=['Date'], index_col='Date')\n",
        "df1['Temp'] = pd.to_numeric(df1['Temp'], errors='coerce')\n",
        "df1.dropna(inplace=True)\n",
        "\n",
        "df2 = pd.read_csv(file2, parse_dates=['DATE'], index_col='DATE')\n",
        "\n",
        "df3 = pd.read_csv(file3, skiprows=1, parse_dates=['Month'], index_col='Month')\n",
        "df3[''Monthly beer production]'' = pd.to_numeric(df3[''Monthly beer production]''], errors='coerce')\n",
        "df3.dropna(inplace=True)\n",
        "\n",
        "df4 = pd.read_csv(file4, skiprows=1, parse_dates=['Month'], index_col='Month')\n",
        "\n",
        "df5 = pd.read_csv(file5)\n",
        "\n",
        "# The plotting function remains the same as it is well-defined\n",
        "def plot_series(df, title, ylabel):\n",
        "    plt.figure(figsize=(12,5))\n",
        "    plt.plot(df)\n",
        "    plt.title(title)\n",
        "    plt.xlabel(\"Time\")\n",
        "    plt.ylabel(ylabel)\n",
        "    plt.grid(True)\n",
        "    plt.show()\n",
        "\n",
        "# Plotting the corrected DataFrames\n",
        "plot_series(df1, \"Daily Minimum Temperatures\", \"Temperature (°C)\")\n",
        "plot_series(df2, \"Electric Production\", \"Production\")\n",
        "plot_series(df3, \"Monthly Beer Production in Australia\", \"Beer Production\")\n",
        "plot_series(df4, \"Shampoo Sales Over Three Years\", \"Sales\")\n",
        "\n",
        "# Print descriptions for the corrected DataFrames\n",
        "print(\"Daily Minimum Temperatures:\\n\", df1.describe(), \"\\n\")\n",
        "print(\"Electric Production:\\n\", df2.describe(), \"\\n\")\n",
        "print(\"Monthly Beer Production:\\n\", df3.describe(), \"\\n\")\n",
        "print(\"Shampoo Sales:\\n\", df4.describe(), \"\\n\")\n",
        "print(\"Emails Dataset:\\n\", df5.describe(include='all'), \"\\n\")"
      ]
    },
    {
      "cell_type": "code",
      "source": [
        "import pandas as pd\n",
        "import matplotlib.pyplot as plt\n",
        "\n",
        "# You must update these file paths with the correct names\n",
        "file1 = \"/content/daily-minimum-temperatures-in-me.csv\"\n",
        "file2 = \"/content/Electric_Production.csv\"\n",
        "file3 = \"/content/monthly-beer-production-in-austr.csv\"\n",
        "file4 = \"/content/sales-of-shampoo-over-a-three-ye.csv\"\n",
        "\n",
        "# Corrected data loading and cleaning\n",
        "# df1: Skipping metadata row and handling non-numeric values\n",
        "df1 = pd.read_csv(file1, skiprows=1, parse_dates=['Date'], index_col='Date')\n",
        "df1['Temp'] = pd.to_numeric(df1['Temp'], errors='coerce')\n",
        "df1.dropna(inplace=True)\n",
        "\n",
        "# df2: Loading as is, as it's already well-formatted\n",
        "df2 = pd.read_csv(file2, parse_dates=['DATE'], index_col='DATE')\n",
        "\n",
        "# df3: Skipping metadata row, renaming column, and handling non-numeric values\n",
        "df3 = pd.read_csv(file3, skiprows=1, parse_dates=['Month'], index_col='Month')\n",
        "df3.rename(columns={'Monthly beer production': 'Beer Production'}, inplace=True)\n",
        "df3['Beer Production'] = pd.to_numeric(df3['Beer Production'], errors='coerce')\n",
        "df3.dropna(inplace=True)\n",
        "\n",
        "# df4: Skipping metadata row and using the corrected date parsing function\n",
        "def parse_shampoo_date(date_str):\n",
        "    parts = date_str.split('-')\n",
        "    year_cycle = int(parts[0])\n",
        "    month_abbr = parts[1]\n",
        "    # Mapping the 3-year cycle to a full date\n",
        "    year = 2000 + year_cycle - 1\n",
        "    return f'01-{month_abbr}-{year}'\n",
        "\n",
        "df4 = pd.read_csv(file4, skiprows=1)\n",
        "df4['Month'] = df4['Month'].apply(parse_shampoo_date)\n",
        "df4['Month'] = pd.to_datetime(df4['Month'], format='%d-%b-%Y')\n",
        "df4 = df4.set_index('Month')\n",
        "\n",
        "# Corrected plotting function to save figures instead of displaying them\n",
        "def plot_series(df, title, ylabel, filename):\n",
        "    plt.figure(figsize=(12, 5))\n",
        "    plt.plot(df.iloc[:, 0], marker='', linewidth=1.5)\n",
        "    plt.title(title, fontsize=14)\n",
        "    plt.xlabel(\"Time\")\n",
        "    plt.ylabel(ylabel)\n",
        "    plt.grid(True)\n",
        "    plt.tight_layout()\n",
        "    plt.savefig(filename)\n",
        "    plt.close()\n",
        "\n",
        "# The plotting calls\n",
        "plot_series(df1, \"Daily Minimum Temperatures\", \"Temperature (°C)\", \"daily_min_temperatures.png\")\n",
        "plot_series(df2, \"Electric Production\", \"Production\", \"electric_production.png\")\n",
        "plot_series(df3, \"Monthly Beer Production in Australia\", \"Beer Production\", \"monthly_beer_production.png\")\n",
        "plot_series(df4, \"Shampoo Sales Over Three Years\", \"Sales\", \"shampoo_sales.png\")\n",
        "\n",
        "# Printing basic statistics\n",
        "print(\"Daily Minimum Temperatures:\\n\", df1.describe(), \"\\n\")\n",
        "print(\"Electric Production:\\n\", df2.describe(), \"\\n\")\n",
        "print(\"Monthly Beer Production:\\n\", df3.describe(), \"\\n\")\n",
        "print(\"Shampoo Sales:\\n\", df4.describe(), \"\\n\")"
      ],
      "metadata": {
        "colab": {
          "base_uri": "https://localhost:8080/",
          "height": 373
        },
        "id": "KYECqrl_hNhH",
        "outputId": "e84084b5-718f-4dbb-8b03-2a4796f417f5"
      },
      "execution_count": 4,
      "outputs": [
        {
          "output_type": "error",
          "ename": "FileNotFoundError",
          "evalue": "[Errno 2] No such file or directory: '/content/daily-minimum-temperatures-in-me.csv'",
          "traceback": [
            "\u001b[0;31m---------------------------------------------------------------------------\u001b[0m",
            "\u001b[0;31mFileNotFoundError\u001b[0m                         Traceback (most recent call last)",
            "\u001b[0;32m/tmp/ipython-input-3526902896.py\u001b[0m in \u001b[0;36m<cell line: 0>\u001b[0;34m()\u001b[0m\n\u001b[1;32m     10\u001b[0m \u001b[0;31m# Corrected data loading and cleaning\u001b[0m\u001b[0;34m\u001b[0m\u001b[0;34m\u001b[0m\u001b[0m\n\u001b[1;32m     11\u001b[0m \u001b[0;31m# df1: Skipping metadata row and handling non-numeric values\u001b[0m\u001b[0;34m\u001b[0m\u001b[0;34m\u001b[0m\u001b[0m\n\u001b[0;32m---> 12\u001b[0;31m \u001b[0mdf1\u001b[0m \u001b[0;34m=\u001b[0m \u001b[0mpd\u001b[0m\u001b[0;34m.\u001b[0m\u001b[0mread_csv\u001b[0m\u001b[0;34m(\u001b[0m\u001b[0mfile1\u001b[0m\u001b[0;34m,\u001b[0m \u001b[0mskiprows\u001b[0m\u001b[0;34m=\u001b[0m\u001b[0;36m1\u001b[0m\u001b[0;34m,\u001b[0m \u001b[0mparse_dates\u001b[0m\u001b[0;34m=\u001b[0m\u001b[0;34m[\u001b[0m\u001b[0;34m'Date'\u001b[0m\u001b[0;34m]\u001b[0m\u001b[0;34m,\u001b[0m \u001b[0mindex_col\u001b[0m\u001b[0;34m=\u001b[0m\u001b[0;34m'Date'\u001b[0m\u001b[0;34m)\u001b[0m\u001b[0;34m\u001b[0m\u001b[0;34m\u001b[0m\u001b[0m\n\u001b[0m\u001b[1;32m     13\u001b[0m \u001b[0mdf1\u001b[0m\u001b[0;34m[\u001b[0m\u001b[0;34m'Temp'\u001b[0m\u001b[0;34m]\u001b[0m \u001b[0;34m=\u001b[0m \u001b[0mpd\u001b[0m\u001b[0;34m.\u001b[0m\u001b[0mto_numeric\u001b[0m\u001b[0;34m(\u001b[0m\u001b[0mdf1\u001b[0m\u001b[0;34m[\u001b[0m\u001b[0;34m'Temp'\u001b[0m\u001b[0;34m]\u001b[0m\u001b[0;34m,\u001b[0m \u001b[0merrors\u001b[0m\u001b[0;34m=\u001b[0m\u001b[0;34m'coerce'\u001b[0m\u001b[0;34m)\u001b[0m\u001b[0;34m\u001b[0m\u001b[0;34m\u001b[0m\u001b[0m\n\u001b[1;32m     14\u001b[0m \u001b[0mdf1\u001b[0m\u001b[0;34m.\u001b[0m\u001b[0mdropna\u001b[0m\u001b[0;34m(\u001b[0m\u001b[0minplace\u001b[0m\u001b[0;34m=\u001b[0m\u001b[0;32mTrue\u001b[0m\u001b[0;34m)\u001b[0m\u001b[0;34m\u001b[0m\u001b[0;34m\u001b[0m\u001b[0m\n",
            "\u001b[0;32m/usr/local/lib/python3.12/dist-packages/pandas/io/parsers/readers.py\u001b[0m in \u001b[0;36mread_csv\u001b[0;34m(filepath_or_buffer, sep, delimiter, header, names, index_col, usecols, dtype, engine, converters, true_values, false_values, skipinitialspace, skiprows, skipfooter, nrows, na_values, keep_default_na, na_filter, verbose, skip_blank_lines, parse_dates, infer_datetime_format, keep_date_col, date_parser, date_format, dayfirst, cache_dates, iterator, chunksize, compression, thousands, decimal, lineterminator, quotechar, quoting, doublequote, escapechar, comment, encoding, encoding_errors, dialect, on_bad_lines, delim_whitespace, low_memory, memory_map, float_precision, storage_options, dtype_backend)\u001b[0m\n\u001b[1;32m   1024\u001b[0m     \u001b[0mkwds\u001b[0m\u001b[0;34m.\u001b[0m\u001b[0mupdate\u001b[0m\u001b[0;34m(\u001b[0m\u001b[0mkwds_defaults\u001b[0m\u001b[0;34m)\u001b[0m\u001b[0;34m\u001b[0m\u001b[0;34m\u001b[0m\u001b[0m\n\u001b[1;32m   1025\u001b[0m \u001b[0;34m\u001b[0m\u001b[0m\n\u001b[0;32m-> 1026\u001b[0;31m     \u001b[0;32mreturn\u001b[0m \u001b[0m_read\u001b[0m\u001b[0;34m(\u001b[0m\u001b[0mfilepath_or_buffer\u001b[0m\u001b[0;34m,\u001b[0m \u001b[0mkwds\u001b[0m\u001b[0;34m)\u001b[0m\u001b[0;34m\u001b[0m\u001b[0;34m\u001b[0m\u001b[0m\n\u001b[0m\u001b[1;32m   1027\u001b[0m \u001b[0;34m\u001b[0m\u001b[0m\n\u001b[1;32m   1028\u001b[0m \u001b[0;34m\u001b[0m\u001b[0m\n",
            "\u001b[0;32m/usr/local/lib/python3.12/dist-packages/pandas/io/parsers/readers.py\u001b[0m in \u001b[0;36m_read\u001b[0;34m(filepath_or_buffer, kwds)\u001b[0m\n\u001b[1;32m    618\u001b[0m \u001b[0;34m\u001b[0m\u001b[0m\n\u001b[1;32m    619\u001b[0m     \u001b[0;31m# Create the parser.\u001b[0m\u001b[0;34m\u001b[0m\u001b[0;34m\u001b[0m\u001b[0m\n\u001b[0;32m--> 620\u001b[0;31m     \u001b[0mparser\u001b[0m \u001b[0;34m=\u001b[0m \u001b[0mTextFileReader\u001b[0m\u001b[0;34m(\u001b[0m\u001b[0mfilepath_or_buffer\u001b[0m\u001b[0;34m,\u001b[0m \u001b[0;34m**\u001b[0m\u001b[0mkwds\u001b[0m\u001b[0;34m)\u001b[0m\u001b[0;34m\u001b[0m\u001b[0;34m\u001b[0m\u001b[0m\n\u001b[0m\u001b[1;32m    621\u001b[0m \u001b[0;34m\u001b[0m\u001b[0m\n\u001b[1;32m    622\u001b[0m     \u001b[0;32mif\u001b[0m \u001b[0mchunksize\u001b[0m \u001b[0;32mor\u001b[0m \u001b[0miterator\u001b[0m\u001b[0;34m:\u001b[0m\u001b[0;34m\u001b[0m\u001b[0;34m\u001b[0m\u001b[0m\n",
            "\u001b[0;32m/usr/local/lib/python3.12/dist-packages/pandas/io/parsers/readers.py\u001b[0m in \u001b[0;36m__init__\u001b[0;34m(self, f, engine, **kwds)\u001b[0m\n\u001b[1;32m   1618\u001b[0m \u001b[0;34m\u001b[0m\u001b[0m\n\u001b[1;32m   1619\u001b[0m         \u001b[0mself\u001b[0m\u001b[0;34m.\u001b[0m\u001b[0mhandles\u001b[0m\u001b[0;34m:\u001b[0m \u001b[0mIOHandles\u001b[0m \u001b[0;34m|\u001b[0m \u001b[0;32mNone\u001b[0m \u001b[0;34m=\u001b[0m \u001b[0;32mNone\u001b[0m\u001b[0;34m\u001b[0m\u001b[0;34m\u001b[0m\u001b[0m\n\u001b[0;32m-> 1620\u001b[0;31m         \u001b[0mself\u001b[0m\u001b[0;34m.\u001b[0m\u001b[0m_engine\u001b[0m \u001b[0;34m=\u001b[0m \u001b[0mself\u001b[0m\u001b[0;34m.\u001b[0m\u001b[0m_make_engine\u001b[0m\u001b[0;34m(\u001b[0m\u001b[0mf\u001b[0m\u001b[0;34m,\u001b[0m \u001b[0mself\u001b[0m\u001b[0;34m.\u001b[0m\u001b[0mengine\u001b[0m\u001b[0;34m)\u001b[0m\u001b[0;34m\u001b[0m\u001b[0;34m\u001b[0m\u001b[0m\n\u001b[0m\u001b[1;32m   1621\u001b[0m \u001b[0;34m\u001b[0m\u001b[0m\n\u001b[1;32m   1622\u001b[0m     \u001b[0;32mdef\u001b[0m \u001b[0mclose\u001b[0m\u001b[0;34m(\u001b[0m\u001b[0mself\u001b[0m\u001b[0;34m)\u001b[0m \u001b[0;34m->\u001b[0m \u001b[0;32mNone\u001b[0m\u001b[0;34m:\u001b[0m\u001b[0;34m\u001b[0m\u001b[0;34m\u001b[0m\u001b[0m\n",
            "\u001b[0;32m/usr/local/lib/python3.12/dist-packages/pandas/io/parsers/readers.py\u001b[0m in \u001b[0;36m_make_engine\u001b[0;34m(self, f, engine)\u001b[0m\n\u001b[1;32m   1878\u001b[0m                 \u001b[0;32mif\u001b[0m \u001b[0;34m\"b\"\u001b[0m \u001b[0;32mnot\u001b[0m \u001b[0;32min\u001b[0m \u001b[0mmode\u001b[0m\u001b[0;34m:\u001b[0m\u001b[0;34m\u001b[0m\u001b[0;34m\u001b[0m\u001b[0m\n\u001b[1;32m   1879\u001b[0m                     \u001b[0mmode\u001b[0m \u001b[0;34m+=\u001b[0m \u001b[0;34m\"b\"\u001b[0m\u001b[0;34m\u001b[0m\u001b[0;34m\u001b[0m\u001b[0m\n\u001b[0;32m-> 1880\u001b[0;31m             self.handles = get_handle(\n\u001b[0m\u001b[1;32m   1881\u001b[0m                 \u001b[0mf\u001b[0m\u001b[0;34m,\u001b[0m\u001b[0;34m\u001b[0m\u001b[0;34m\u001b[0m\u001b[0m\n\u001b[1;32m   1882\u001b[0m                 \u001b[0mmode\u001b[0m\u001b[0;34m,\u001b[0m\u001b[0;34m\u001b[0m\u001b[0;34m\u001b[0m\u001b[0m\n",
            "\u001b[0;32m/usr/local/lib/python3.12/dist-packages/pandas/io/common.py\u001b[0m in \u001b[0;36mget_handle\u001b[0;34m(path_or_buf, mode, encoding, compression, memory_map, is_text, errors, storage_options)\u001b[0m\n\u001b[1;32m    871\u001b[0m         \u001b[0;32mif\u001b[0m \u001b[0mioargs\u001b[0m\u001b[0;34m.\u001b[0m\u001b[0mencoding\u001b[0m \u001b[0;32mand\u001b[0m \u001b[0;34m\"b\"\u001b[0m \u001b[0;32mnot\u001b[0m \u001b[0;32min\u001b[0m \u001b[0mioargs\u001b[0m\u001b[0;34m.\u001b[0m\u001b[0mmode\u001b[0m\u001b[0;34m:\u001b[0m\u001b[0;34m\u001b[0m\u001b[0;34m\u001b[0m\u001b[0m\n\u001b[1;32m    872\u001b[0m             \u001b[0;31m# Encoding\u001b[0m\u001b[0;34m\u001b[0m\u001b[0;34m\u001b[0m\u001b[0m\n\u001b[0;32m--> 873\u001b[0;31m             handle = open(\n\u001b[0m\u001b[1;32m    874\u001b[0m                 \u001b[0mhandle\u001b[0m\u001b[0;34m,\u001b[0m\u001b[0;34m\u001b[0m\u001b[0;34m\u001b[0m\u001b[0m\n\u001b[1;32m    875\u001b[0m                 \u001b[0mioargs\u001b[0m\u001b[0;34m.\u001b[0m\u001b[0mmode\u001b[0m\u001b[0;34m,\u001b[0m\u001b[0;34m\u001b[0m\u001b[0;34m\u001b[0m\u001b[0m\n",
            "\u001b[0;31mFileNotFoundError\u001b[0m: [Errno 2] No such file or directory: '/content/daily-minimum-temperatures-in-me.csv'"
          ]
        }
      ]
    }
  ]
}